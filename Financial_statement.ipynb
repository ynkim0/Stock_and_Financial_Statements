{
  "nbformat": 4,
  "nbformat_minor": 0,
  "metadata": {
    "colab": {
      "provenance": [],
      "authorship_tag": "ABX9TyMlfalb+7mJpuKXnkzRPA5r",
      "include_colab_link": true
    },
    "kernelspec": {
      "name": "python3",
      "display_name": "Python 3"
    },
    "language_info": {
      "name": "python"
    }
  },
  "cells": [
    {
      "cell_type": "markdown",
      "metadata": {
        "id": "view-in-github",
        "colab_type": "text"
      },
      "source": [
        "<a href=\"https://colab.research.google.com/github/ynkim0/Stock_and_Financial_Statements/blob/main/Financial_statement.ipynb\" target=\"_parent\"><img src=\"https://colab.research.google.com/assets/colab-badge.svg\" alt=\"Open In Colab\"/></a>"
      ]
    },
    {
      "cell_type": "code",
      "source": [
        "!pip install xmltodict"
      ],
      "metadata": {
        "colab": {
          "base_uri": "https://localhost:8080/"
        },
        "id": "GYTOsJmZzdTH",
        "outputId": "b42b02d3-e24a-4cd3-e1eb-00c936c29cf3"
      },
      "execution_count": 2,
      "outputs": [
        {
          "output_type": "stream",
          "name": "stdout",
          "text": [
            "Looking in indexes: https://pypi.org/simple, https://us-python.pkg.dev/colab-wheels/public/simple/\n",
            "Collecting xmltodict\n",
            "  Downloading xmltodict-0.13.0-py2.py3-none-any.whl (10.0 kB)\n",
            "Installing collected packages: xmltodict\n",
            "Successfully installed xmltodict-0.13.0\n"
          ]
        }
      ]
    },
    {
      "cell_type": "code",
      "execution_count": 4,
      "metadata": {
        "id": "LUxWfCKgyrKA"
      },
      "outputs": [],
      "source": [
        "import requests\n",
        "from io import BytesIO\n",
        "import zipfile\n",
        "import xmltodict\n",
        "\n",
        "api = 'https://opendart.fss.or.kr/api/corpCode.xml'\n",
        "res = requests.get(api, params={'crtfc_key': '9a360d3e3365eba4c46575c83fe03b7947088252'})\n",
        "data_xml = zipfile.ZipFile(BytesIO(res.content))"
      ]
    },
    {
      "cell_type": "markdown",
      "source": [
        "https://proceedings.neurips.cc/paper/2017/file/3f5ee243547dee91fbd053c1c4a845aa-Paper.pdf"
      ],
      "metadata": {
        "id": "f7F7ied6zarW"
      }
    },
    {
      "cell_type": "code",
      "source": [
        "data_xml.namelist()"
      ],
      "metadata": {
        "colab": {
          "base_uri": "https://localhost:8080/"
        },
        "id": "_d0VQE0k0ehO",
        "outputId": "169c4110-8809-43cf-bb55-0c4430e14599"
      },
      "execution_count": 7,
      "outputs": [
        {
          "output_type": "execute_result",
          "data": {
            "text/plain": [
              "['CORPCODE.xml']"
            ]
          },
          "metadata": {},
          "execution_count": 7
        }
      ]
    },
    {
      "cell_type": "code",
      "source": [
        "import xmltodict\n",
        "import json\n",
        "\n",
        "data_xml = data_xml.read('CORPCODE.xml').decode('utf-8')\n",
        "data_odict = xmltodict.parse(data_xml)\n",
        "data_dict = json.loads(json.dumps(data_odict))\n",
        "data = data_dict.get('result', {}).get('list')"
      ],
      "metadata": {
        "id": "saWNMAg3y4Gq"
      },
      "execution_count": 9,
      "outputs": []
    },
    {
      "cell_type": "code",
      "source": [
        "for item in data:\n",
        "    if item['corp_name'] in [\"삼성전자\", \"SK하이닉스\", \"NAVER\"]:\n",
        "        print(item)"
      ],
      "metadata": {
        "colab": {
          "base_uri": "https://localhost:8080/"
        },
        "id": "dG_8Mkpb0bs-",
        "outputId": "c5e89ffb-a034-44ae-d486-05ce10313c57"
      },
      "execution_count": 10,
      "outputs": [
        {
          "output_type": "stream",
          "name": "stdout",
          "text": [
            "{'corp_code': '00126380', 'corp_name': '삼성전자', 'stock_code': '005930', 'modify_date': '20220509'}\n",
            "{'corp_code': '00164779', 'corp_name': 'SK하이닉스', 'stock_code': '000660', 'modify_date': '20220331'}\n",
            "{'corp_code': '00266961', 'corp_name': 'NAVER', 'stock_code': '035420', 'modify_date': '20220728'}\n"
          ]
        }
      ]
    },
    {
      "cell_type": "markdown",
      "source": [
        "http://blog.quantylab.com/2020-10-09-dart.html"
      ],
      "metadata": {
        "id": "DD2ne2pw1So-"
      }
    },
    {
      "cell_type": "code",
      "source": [],
      "metadata": {
        "id": "M2le9JSr1PYa"
      },
      "execution_count": null,
      "outputs": []
    }
  ]
}