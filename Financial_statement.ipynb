{
  "nbformat": 4,
  "nbformat_minor": 0,
  "metadata": {
    "colab": {
      "provenance": [],
      "authorship_tag": "ABX9TyOzjbJf5ytFfiUgkMDBbgzs",
      "include_colab_link": true
    },
    "kernelspec": {
      "name": "python3",
      "display_name": "Python 3"
    },
    "language_info": {
      "name": "python"
    }
  },
  "cells": [
    {
      "cell_type": "markdown",
      "metadata": {
        "id": "view-in-github",
        "colab_type": "text"
      },
      "source": [
        "<a href=\"https://colab.research.google.com/github/ynkim0/Stock_and_Financial_Statements/blob/main/Financial_statement.ipynb\" target=\"_parent\"><img src=\"https://colab.research.google.com/assets/colab-badge.svg\" alt=\"Open In Colab\"/></a>"
      ]
    },
    {
      "cell_type": "code",
      "source": [
        "!pip install xmltodict"
      ],
      "metadata": {
        "colab": {
          "base_uri": "https://localhost:8080/"
        },
        "id": "GYTOsJmZzdTH",
        "outputId": "b42b02d3-e24a-4cd3-e1eb-00c936c29cf3"
      },
      "execution_count": null,
      "outputs": [
        {
          "output_type": "stream",
          "name": "stdout",
          "text": [
            "Looking in indexes: https://pypi.org/simple, https://us-python.pkg.dev/colab-wheels/public/simple/\n",
            "Collecting xmltodict\n",
            "  Downloading xmltodict-0.13.0-py2.py3-none-any.whl (10.0 kB)\n",
            "Installing collected packages: xmltodict\n",
            "Successfully installed xmltodict-0.13.0\n"
          ]
        }
      ]
    },
    {
      "cell_type": "code",
      "execution_count": null,
      "metadata": {
        "id": "LUxWfCKgyrKA"
      },
      "outputs": [],
      "source": [
        "import requests\n",
        "from io import BytesIO\n",
        "import zipfile\n",
        "import xmltodict\n",
        "\n",
        "api = 'https://opendart.fss.or.kr/api/corpCode.xml'\n",
        "res = requests.get(api, params={'crtfc_key': '9a360d3e3365eba4c46575c83fe03b7947088252'})\n",
        "data_xml = zipfile.ZipFile(BytesIO(res.content))"
      ]
    },
    {
      "cell_type": "markdown",
      "source": [
        "https://proceedings.neurips.cc/paper/2017/file/3f5ee243547dee91fbd053c1c4a845aa-Paper.pdf"
      ],
      "metadata": {
        "id": "f7F7ied6zarW"
      }
    },
    {
      "cell_type": "code",
      "source": [
        "data_xml.namelist()"
      ],
      "metadata": {
        "colab": {
          "base_uri": "https://localhost:8080/"
        },
        "id": "_d0VQE0k0ehO",
        "outputId": "169c4110-8809-43cf-bb55-0c4430e14599"
      },
      "execution_count": null,
      "outputs": [
        {
          "output_type": "execute_result",
          "data": {
            "text/plain": [
              "['CORPCODE.xml']"
            ]
          },
          "metadata": {},
          "execution_count": 7
        }
      ]
    },
    {
      "cell_type": "code",
      "source": [
        "import xmltodict\n",
        "import json\n",
        "\n",
        "data_xml = data_xml.read('CORPCODE.xml').decode('utf-8')\n",
        "data_odict = xmltodict.parse(data_xml)\n",
        "data_dict = json.loads(json.dumps(data_odict))\n",
        "data = data_dict.get('result', {}).get('list')"
      ],
      "metadata": {
        "id": "saWNMAg3y4Gq"
      },
      "execution_count": null,
      "outputs": []
    },
    {
      "cell_type": "code",
      "source": [
        "for item in data:\n",
        "    if item['corp_name'] in [\"삼성전자\", \"SK하이닉스\", \"NAVER\"]:\n",
        "        print(item)"
      ],
      "metadata": {
        "colab": {
          "base_uri": "https://localhost:8080/"
        },
        "id": "dG_8Mkpb0bs-",
        "outputId": "c5e89ffb-a034-44ae-d486-05ce10313c57"
      },
      "execution_count": null,
      "outputs": [
        {
          "output_type": "stream",
          "name": "stdout",
          "text": [
            "{'corp_code': '00126380', 'corp_name': '삼성전자', 'stock_code': '005930', 'modify_date': '20220509'}\n",
            "{'corp_code': '00164779', 'corp_name': 'SK하이닉스', 'stock_code': '000660', 'modify_date': '20220331'}\n",
            "{'corp_code': '00266961', 'corp_name': 'NAVER', 'stock_code': '035420', 'modify_date': '20220728'}\n"
          ]
        }
      ]
    },
    {
      "cell_type": "markdown",
      "source": [
        "http://blog.quantylab.com/2020-10-09-dart.html"
      ],
      "metadata": {
        "id": "DD2ne2pw1So-"
      }
    },
    {
      "cell_type": "code",
      "source": [
        "crtfc_key = '9a360d3e3365eba4c46575c83fe03b7947088252'\n",
        " \n",
        "import requests \n",
        "import pandas as pd \n",
        "import io \n",
        "import zipfile\n",
        "import xml.etree.ElementTree as et \n",
        "import json"
      ],
      "metadata": {
        "id": "DwqsQfbnC2gk"
      },
      "execution_count": null,
      "outputs": []
    },
    {
      "cell_type": "code",
      "source": [
        "def get_corpcode(crtfc_key): \n",
        "    \"\"\" \n",
        "    OpenDART 기업 고유번호 받아오기 \n",
        "    return 값: 주식코드를 가진 업체의 DataFrame \n",
        "    \"\"\" \n",
        "    params = {'crtfc_key':crtfc_key} \n",
        "    items = [\"corp_code\",\"corp_name\",\"stock_code\",\"modify_date\"] \n",
        "    item_names = [\"고유번호\",\"회사명\",\"종목코드\",\"수정일\"] \n",
        "    url = \"https://opendart.fss.or.kr/api/corpCode.xml\" #요청 url\n",
        "    res = requests.get(url,params=params) #url 불러오기\n",
        "    zfile = zipfile.ZipFile(io.BytesIO(res.content))  #zip file 받기\n",
        "    fin = zfile.open(zfile.namelist()[0])  #zip file 열고\n",
        "    root = et.fromstring(fin.read().decode('utf-8'))  #utf-8 디코딩\n",
        "    data = [] \n",
        "    for child in root: \n",
        "        if len(child.find('stock_code').text.strip()) > 1: # 종목코드가 있는 경우 \n",
        "            data.append([]) #data에 append하라 \n",
        "            for item in items: \n",
        "                data[-1].append(child.find(item).text) \n",
        "    df = pd.DataFrame(data, columns=item_names) \n",
        "    return df"
      ],
      "metadata": {
        "id": "vGHQOhjuDBuY"
      },
      "execution_count": null,
      "outputs": []
    },
    {
      "cell_type": "code",
      "source": [
        "stock_comp = get_corpcode(crtfc_key)\n",
        "stock_comp"
      ],
      "metadata": {
        "colab": {
          "base_uri": "https://localhost:8080/",
          "height": 424
        },
        "id": "tyo6-EqPDHxj",
        "outputId": "b6074be5-6e61-44bb-894e-ac40282b3995"
      },
      "execution_count": null,
      "outputs": [
        {
          "output_type": "execute_result",
          "data": {
            "text/plain": [
              "          고유번호      회사명    종목코드       수정일\n",
              "0     00260985     한빛네트  036720  20170630\n",
              "1     00264529     엔플렉스  040130  20170630\n",
              "2     00358545   동서정보기술  055000  20170630\n",
              "3     00231567    애드모바일  032600  20170630\n",
              "4     00247939      씨모스  037600  20170630\n",
              "...        ...      ...     ...       ...\n",
              "3515  00185505    제일바이오  052670  20221122\n",
              "3516  00993931     동양파일  228340  20221124\n",
              "3517  00115287       동방  004140  20221124\n",
              "3518  00557933       진도  088790  20221108\n",
              "3519  01384477  엠에프엠코리아  323230  20221114\n",
              "\n",
              "[3520 rows x 4 columns]"
            ],
            "text/html": [
              "\n",
              "  <div id=\"df-6f92e42e-607f-4fa8-b86d-402276d76a55\">\n",
              "    <div class=\"colab-df-container\">\n",
              "      <div>\n",
              "<style scoped>\n",
              "    .dataframe tbody tr th:only-of-type {\n",
              "        vertical-align: middle;\n",
              "    }\n",
              "\n",
              "    .dataframe tbody tr th {\n",
              "        vertical-align: top;\n",
              "    }\n",
              "\n",
              "    .dataframe thead th {\n",
              "        text-align: right;\n",
              "    }\n",
              "</style>\n",
              "<table border=\"1\" class=\"dataframe\">\n",
              "  <thead>\n",
              "    <tr style=\"text-align: right;\">\n",
              "      <th></th>\n",
              "      <th>고유번호</th>\n",
              "      <th>회사명</th>\n",
              "      <th>종목코드</th>\n",
              "      <th>수정일</th>\n",
              "    </tr>\n",
              "  </thead>\n",
              "  <tbody>\n",
              "    <tr>\n",
              "      <th>0</th>\n",
              "      <td>00260985</td>\n",
              "      <td>한빛네트</td>\n",
              "      <td>036720</td>\n",
              "      <td>20170630</td>\n",
              "    </tr>\n",
              "    <tr>\n",
              "      <th>1</th>\n",
              "      <td>00264529</td>\n",
              "      <td>엔플렉스</td>\n",
              "      <td>040130</td>\n",
              "      <td>20170630</td>\n",
              "    </tr>\n",
              "    <tr>\n",
              "      <th>2</th>\n",
              "      <td>00358545</td>\n",
              "      <td>동서정보기술</td>\n",
              "      <td>055000</td>\n",
              "      <td>20170630</td>\n",
              "    </tr>\n",
              "    <tr>\n",
              "      <th>3</th>\n",
              "      <td>00231567</td>\n",
              "      <td>애드모바일</td>\n",
              "      <td>032600</td>\n",
              "      <td>20170630</td>\n",
              "    </tr>\n",
              "    <tr>\n",
              "      <th>4</th>\n",
              "      <td>00247939</td>\n",
              "      <td>씨모스</td>\n",
              "      <td>037600</td>\n",
              "      <td>20170630</td>\n",
              "    </tr>\n",
              "    <tr>\n",
              "      <th>...</th>\n",
              "      <td>...</td>\n",
              "      <td>...</td>\n",
              "      <td>...</td>\n",
              "      <td>...</td>\n",
              "    </tr>\n",
              "    <tr>\n",
              "      <th>3515</th>\n",
              "      <td>00185505</td>\n",
              "      <td>제일바이오</td>\n",
              "      <td>052670</td>\n",
              "      <td>20221122</td>\n",
              "    </tr>\n",
              "    <tr>\n",
              "      <th>3516</th>\n",
              "      <td>00993931</td>\n",
              "      <td>동양파일</td>\n",
              "      <td>228340</td>\n",
              "      <td>20221124</td>\n",
              "    </tr>\n",
              "    <tr>\n",
              "      <th>3517</th>\n",
              "      <td>00115287</td>\n",
              "      <td>동방</td>\n",
              "      <td>004140</td>\n",
              "      <td>20221124</td>\n",
              "    </tr>\n",
              "    <tr>\n",
              "      <th>3518</th>\n",
              "      <td>00557933</td>\n",
              "      <td>진도</td>\n",
              "      <td>088790</td>\n",
              "      <td>20221108</td>\n",
              "    </tr>\n",
              "    <tr>\n",
              "      <th>3519</th>\n",
              "      <td>01384477</td>\n",
              "      <td>엠에프엠코리아</td>\n",
              "      <td>323230</td>\n",
              "      <td>20221114</td>\n",
              "    </tr>\n",
              "  </tbody>\n",
              "</table>\n",
              "<p>3520 rows × 4 columns</p>\n",
              "</div>\n",
              "      <button class=\"colab-df-convert\" onclick=\"convertToInteractive('df-6f92e42e-607f-4fa8-b86d-402276d76a55')\"\n",
              "              title=\"Convert this dataframe to an interactive table.\"\n",
              "              style=\"display:none;\">\n",
              "        \n",
              "  <svg xmlns=\"http://www.w3.org/2000/svg\" height=\"24px\"viewBox=\"0 0 24 24\"\n",
              "       width=\"24px\">\n",
              "    <path d=\"M0 0h24v24H0V0z\" fill=\"none\"/>\n",
              "    <path d=\"M18.56 5.44l.94 2.06.94-2.06 2.06-.94-2.06-.94-.94-2.06-.94 2.06-2.06.94zm-11 1L8.5 8.5l.94-2.06 2.06-.94-2.06-.94L8.5 2.5l-.94 2.06-2.06.94zm10 10l.94 2.06.94-2.06 2.06-.94-2.06-.94-.94-2.06-.94 2.06-2.06.94z\"/><path d=\"M17.41 7.96l-1.37-1.37c-.4-.4-.92-.59-1.43-.59-.52 0-1.04.2-1.43.59L10.3 9.45l-7.72 7.72c-.78.78-.78 2.05 0 2.83L4 21.41c.39.39.9.59 1.41.59.51 0 1.02-.2 1.41-.59l7.78-7.78 2.81-2.81c.8-.78.8-2.07 0-2.86zM5.41 20L4 18.59l7.72-7.72 1.47 1.35L5.41 20z\"/>\n",
              "  </svg>\n",
              "      </button>\n",
              "      \n",
              "  <style>\n",
              "    .colab-df-container {\n",
              "      display:flex;\n",
              "      flex-wrap:wrap;\n",
              "      gap: 12px;\n",
              "    }\n",
              "\n",
              "    .colab-df-convert {\n",
              "      background-color: #E8F0FE;\n",
              "      border: none;\n",
              "      border-radius: 50%;\n",
              "      cursor: pointer;\n",
              "      display: none;\n",
              "      fill: #1967D2;\n",
              "      height: 32px;\n",
              "      padding: 0 0 0 0;\n",
              "      width: 32px;\n",
              "    }\n",
              "\n",
              "    .colab-df-convert:hover {\n",
              "      background-color: #E2EBFA;\n",
              "      box-shadow: 0px 1px 2px rgba(60, 64, 67, 0.3), 0px 1px 3px 1px rgba(60, 64, 67, 0.15);\n",
              "      fill: #174EA6;\n",
              "    }\n",
              "\n",
              "    [theme=dark] .colab-df-convert {\n",
              "      background-color: #3B4455;\n",
              "      fill: #D2E3FC;\n",
              "    }\n",
              "\n",
              "    [theme=dark] .colab-df-convert:hover {\n",
              "      background-color: #434B5C;\n",
              "      box-shadow: 0px 1px 3px 1px rgba(0, 0, 0, 0.15);\n",
              "      filter: drop-shadow(0px 1px 2px rgba(0, 0, 0, 0.3));\n",
              "      fill: #FFFFFF;\n",
              "    }\n",
              "  </style>\n",
              "\n",
              "      <script>\n",
              "        const buttonEl =\n",
              "          document.querySelector('#df-6f92e42e-607f-4fa8-b86d-402276d76a55 button.colab-df-convert');\n",
              "        buttonEl.style.display =\n",
              "          google.colab.kernel.accessAllowed ? 'block' : 'none';\n",
              "\n",
              "        async function convertToInteractive(key) {\n",
              "          const element = document.querySelector('#df-6f92e42e-607f-4fa8-b86d-402276d76a55');\n",
              "          const dataTable =\n",
              "            await google.colab.kernel.invokeFunction('convertToInteractive',\n",
              "                                                     [key], {});\n",
              "          if (!dataTable) return;\n",
              "\n",
              "          const docLinkHtml = 'Like what you see? Visit the ' +\n",
              "            '<a target=\"_blank\" href=https://colab.research.google.com/notebooks/data_table.ipynb>data table notebook</a>'\n",
              "            + ' to learn more about interactive tables.';\n",
              "          element.innerHTML = '';\n",
              "          dataTable['output_type'] = 'display_data';\n",
              "          await google.colab.output.renderOutput(dataTable, element);\n",
              "          const docLink = document.createElement('div');\n",
              "          docLink.innerHTML = docLinkHtml;\n",
              "          element.appendChild(docLink);\n",
              "        }\n",
              "      </script>\n",
              "    </div>\n",
              "  </div>\n",
              "  "
            ]
          },
          "metadata": {},
          "execution_count": 13
        }
      ]
    },
    {
      "cell_type": "code",
      "source": [
        "def Frame(url, items, item_names, params): \n",
        "    \"\"\"\n",
        "    url : json형태로 요청하는 주소\n",
        "    items : 반환되는 데이터들의 key를 가진 리스트\n",
        "    item_names :  데이터프레임을 만들때 컬럼명 리스트\n",
        "    params : url 요청시 필수값으로 들어가는 인자들을 가진 딕셔너리\n",
        "    \"\"\"\n",
        "    res = requests.get(url, params)\n",
        "    json_data = res.json()\n",
        "    json_dict = json.loads(res.text) \n",
        "    data = [] \n",
        "    if json_dict['status'] == \"000\":  # 오류 없이 정상적으로 데이터가 있다면 \n",
        "        for line in json_dict['list']: \n",
        "            data.append([])\n",
        "            for itm in items: \n",
        "                if itm in line.keys(): \n",
        "                    data[-1].append(line[itm]) \n",
        "                else: \n",
        "                    data[-1].append('')\n",
        "    df = pd.DataFrame(data, columns=item_names)\n",
        "    return df"
      ],
      "metadata": {
        "id": "PLgQCrn6DNLU"
      },
      "execution_count": null,
      "outputs": []
    },
    {
      "cell_type": "code",
      "source": [
        "def get_단일회사재무제표(crtfc_key, corp_code, bsns_year, reprt_code, fs_div = \"CFS\"): \n",
        "    items = [\"rcept_no\",\"reprt_code\",\"bsns_year\",\"corp_code\",\"sj_div\",\"sj_nm\", \n",
        "             \"account_id\",\"account_nm\",\"account_detail\",\"thstrm_nm\", \"thstrm_amount\",\n",
        "             \"thstrm_add_amount\",\"frmtrm_nm\",\"frmtrm_amount\", \"frmtrm_q_nm\",\"frmtrm_q_amount\",\n",
        "             \"frmtrm_add_amount\",\"bfefrmtrm_nm\", \"bfefrmtrm_amount\",\"ord\"] \n",
        "    item_names = [\"접수번호\",\"보고서코드\",\"사업연도\",\"고유번호\",\"재무제표구분\", \"재무제표명\",\n",
        "                  \"계정ID\",\"계정명\",\"계정상세\",\"당기명\",\"당기금액\", \"당기누적금액\",\"전기명\",\"전기금액\",\"전기명(분/반기)\", \n",
        "                  \"전기금액(분/반기)\",\"전기누적금액\",\"전전기명\",\"전전기금액\", \"계정과목정렬순서\"] \n",
        "    params = {'crtfc_key':crtfc_key, 'corp_code':corp_code, 'bsns_year':bsns_year, 'reprt_code':reprt_code, 'fs_div':fs_div} \n",
        "    url = \"https://opendart.fss.or.kr/api/fnlttSinglAcntAll.json?\" \n",
        "    df = Frame(url, items, item_names, params)\n",
        "    return df"
      ],
      "metadata": {
        "id": "lsIFxNQ7DQaw"
      },
      "execution_count": null,
      "outputs": []
    },
    {
      "cell_type": "code",
      "source": [
        "#1개 해보기 \n",
        "corp_code = stock_comp['고유번호']\n",
        "final_reprt_df = get_fnlttSinglAcntAll(crtfc_key, corp_code[0], 2020, '11013', fs_div = \"CFS\") \n",
        "#반복\n",
        "from tqdm import tqdm\n",
        "for k in tqdm(range(1, len(stock_comp))):\n",
        "    reprt_df = get_fnlttSinglAcntAll(crtfc_key, corp_code[k], 2020, '11013', fs_div = \"CFS\") \n",
        "    final_reprt_df = pd.concat([final_reprt_df, reprt_df], axis = 0)"
      ],
      "metadata": {
        "colab": {
          "base_uri": "https://localhost:8080/",
          "height": 248
        },
        "id": "pPMckUFIDVL9",
        "outputId": "d5494a86-23b7-4218-a4a7-24e4237ac486"
      },
      "execution_count": null,
      "outputs": [
        {
          "output_type": "error",
          "ename": "NameError",
          "evalue": "ignored",
          "traceback": [
            "\u001b[0;31m---------------------------------------------------------------------------\u001b[0m",
            "\u001b[0;31mNameError\u001b[0m                                 Traceback (most recent call last)",
            "\u001b[0;32m<ipython-input-16-30b1bfbe76da>\u001b[0m in \u001b[0;36m<module>\u001b[0;34m\u001b[0m\n\u001b[1;32m      1\u001b[0m \u001b[0;31m#1개 해보기\u001b[0m\u001b[0;34m\u001b[0m\u001b[0;34m\u001b[0m\u001b[0;34m\u001b[0m\u001b[0m\n\u001b[1;32m      2\u001b[0m \u001b[0mcorp_code\u001b[0m \u001b[0;34m=\u001b[0m \u001b[0mstock_comp\u001b[0m\u001b[0;34m[\u001b[0m\u001b[0;34m'고유번호'\u001b[0m\u001b[0;34m]\u001b[0m\u001b[0;34m\u001b[0m\u001b[0;34m\u001b[0m\u001b[0m\n\u001b[0;32m----> 3\u001b[0;31m \u001b[0mfinal_reprt_df\u001b[0m \u001b[0;34m=\u001b[0m \u001b[0mget_fnlttSinglAcntAll\u001b[0m\u001b[0;34m(\u001b[0m\u001b[0mcrtfc_key\u001b[0m\u001b[0;34m,\u001b[0m \u001b[0mcorp_code\u001b[0m\u001b[0;34m[\u001b[0m\u001b[0;36m0\u001b[0m\u001b[0;34m]\u001b[0m\u001b[0;34m,\u001b[0m \u001b[0;36m2020\u001b[0m\u001b[0;34m,\u001b[0m \u001b[0;34m'11013'\u001b[0m\u001b[0;34m,\u001b[0m \u001b[0mfs_div\u001b[0m \u001b[0;34m=\u001b[0m \u001b[0;34m\"CFS\"\u001b[0m\u001b[0;34m)\u001b[0m\u001b[0;34m\u001b[0m\u001b[0;34m\u001b[0m\u001b[0m\n\u001b[0m\u001b[1;32m      4\u001b[0m \u001b[0;31m#반복\u001b[0m\u001b[0;34m\u001b[0m\u001b[0;34m\u001b[0m\u001b[0;34m\u001b[0m\u001b[0m\n\u001b[1;32m      5\u001b[0m \u001b[0;32mfrom\u001b[0m \u001b[0mtqdm\u001b[0m \u001b[0;32mimport\u001b[0m \u001b[0mtqdm\u001b[0m\u001b[0;34m\u001b[0m\u001b[0;34m\u001b[0m\u001b[0m\n",
            "\u001b[0;31mNameError\u001b[0m: name 'get_fnlttSinglAcntAll' is not defined"
          ]
        }
      ]
    },
    {
      "cell_type": "code",
      "source": [
        "def sep(x, df): \n",
        "    df = df[df['재무제표구분'] == x]\n",
        "    return df\n",
        " \n",
        "final_BS = sep('BS', final_reprt_df) #재무상태표 \n",
        "final_CIS = sep('CIS', final_reprt_df) #포괄손익계산서 \n",
        "final_CF = sep('CF', final_reprt_df) #현금흐름표\n",
        "final_SCE = sep('SCE', final_reprt_df) #자본변동표\n",
        "final_IS = sep('IS', final_reprt_df) #손익계산서 "
      ],
      "metadata": {
        "id": "vOOYwtItDZZO"
      },
      "execution_count": null,
      "outputs": []
    },
    {
      "cell_type": "markdown",
      "source": [],
      "metadata": {
        "id": "-BKOKbCvC2Dr"
      }
    }
  ]
}