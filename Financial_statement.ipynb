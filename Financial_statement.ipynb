{
  "nbformat": 4,
  "nbformat_minor": 0,
  "metadata": {
    "colab": {
      "provenance": [],
      "authorship_tag": "ABX9TyMOrgJ5QFiV6FBWuLc8+ST1",
      "include_colab_link": true
    },
    "kernelspec": {
      "name": "python3",
      "display_name": "Python 3"
    },
    "language_info": {
      "name": "python"
    }
  },
  "cells": [
    {
      "cell_type": "markdown",
      "metadata": {
        "id": "view-in-github",
        "colab_type": "text"
      },
      "source": [
        "<a href=\"https://colab.research.google.com/github/ynkim0/Stock_and_Financial_Statements/blob/main/Financial_statement.ipynb\" target=\"_parent\"><img src=\"https://colab.research.google.com/assets/colab-badge.svg\" alt=\"Open In Colab\"/></a>"
      ]
    },
    {
      "cell_type": "code",
      "source": [
        "!pip install xmltodict"
      ],
      "metadata": {
        "colab": {
          "base_uri": "https://localhost:8080/"
        },
        "id": "GYTOsJmZzdTH",
        "outputId": "b8f132cf-5ff7-4424-b70c-5dfab30c0526"
      },
      "execution_count": null,
      "outputs": [
        {
          "output_type": "stream",
          "name": "stdout",
          "text": [
            "Looking in indexes: https://pypi.org/simple, https://us-python.pkg.dev/colab-wheels/public/simple/\n",
            "Collecting xmltodict\n",
            "  Downloading xmltodict-0.13.0-py2.py3-none-any.whl (10.0 kB)\n",
            "Installing collected packages: xmltodict\n",
            "Successfully installed xmltodict-0.13.0\n"
          ]
        }
      ]
    },
    {
      "cell_type": "code",
      "execution_count": null,
      "metadata": {
        "id": "LUxWfCKgyrKA"
      },
      "outputs": [],
      "source": [
        "import requests\n",
        "from io import BytesIO\n",
        "import zipfile\n",
        "import xmltodict\n",
        "\n",
        "api = 'https://opendart.fss.or.kr/api/corpCode.xml'\n",
        "res = requests.get(api, params={'crtfc_key': '9a360d3e3365eba4c46575c83fe03b7947088252'})\n",
        "data_xml = zipfile.ZipFile(BytesIO(res.content))"
      ]
    },
    {
      "cell_type": "markdown",
      "source": [
        "https://proceedings.neurips.cc/paper/2017/file/3f5ee243547dee91fbd053c1c4a845aa-Paper.pdf"
      ],
      "metadata": {
        "id": "f7F7ied6zarW"
      }
    },
    {
      "cell_type": "code",
      "source": [
        "data_xml.namelist()"
      ],
      "metadata": {
        "colab": {
          "base_uri": "https://localhost:8080/"
        },
        "id": "_d0VQE0k0ehO",
        "outputId": "6307ee3c-39ad-4779-95d0-6f946555f951"
      },
      "execution_count": null,
      "outputs": [
        {
          "output_type": "execute_result",
          "data": {
            "text/plain": [
              "['CORPCODE.xml']"
            ]
          },
          "metadata": {},
          "execution_count": 5
        }
      ]
    },
    {
      "cell_type": "code",
      "source": [
        "import xmltodict\n",
        "import json\n",
        "\n",
        "data_xml = data_xml.read('CORPCODE.xml').decode('utf-8')\n",
        "data_odict = xmltodict.parse(data_xml)\n",
        "data_dict = json.loads(json.dumps(data_odict))\n",
        "data = data_dict.get('result', {}).get('list')"
      ],
      "metadata": {
        "id": "saWNMAg3y4Gq"
      },
      "execution_count": null,
      "outputs": []
    },
    {
      "cell_type": "code",
      "source": [
        "for item in data:\n",
        "    if item['corp_name'] in [\"삼성전자\", \"SK하이닉스\", \"NAVER\"]:\n",
        "        print(item)"
      ],
      "metadata": {
        "colab": {
          "base_uri": "https://localhost:8080/"
        },
        "id": "dG_8Mkpb0bs-",
        "outputId": "27acf7f8-26f8-4854-b97b-0ebaddb53f78"
      },
      "execution_count": null,
      "outputs": [
        {
          "output_type": "stream",
          "name": "stdout",
          "text": [
            "{'corp_code': '00126380', 'corp_name': '삼성전자', 'stock_code': '005930', 'modify_date': '20220509'}\n",
            "{'corp_code': '00164779', 'corp_name': 'SK하이닉스', 'stock_code': '000660', 'modify_date': '20220331'}\n",
            "{'corp_code': '00266961', 'corp_name': 'NAVER', 'stock_code': '035420', 'modify_date': '20220728'}\n"
          ]
        }
      ]
    },
    {
      "cell_type": "markdown",
      "source": [
        "http://blog.quantylab.com/2020-10-09-dart.html"
      ],
      "metadata": {
        "id": "DD2ne2pw1So-"
      }
    },
    {
      "cell_type": "code",
      "source": [
        "crtfc_key = '9a360d3e3365eba4c46575c83fe03b7947088252'\n",
        " \n",
        "import requests \n",
        "import pandas as pd \n",
        "import io \n",
        "import zipfile\n",
        "import xml.etree.ElementTree as et \n",
        "import json"
      ],
      "metadata": {
        "id": "DwqsQfbnC2gk"
      },
      "execution_count": null,
      "outputs": []
    },
    {
      "cell_type": "code",
      "source": [
        "def get_corpcode(crtfc_key): \n",
        "    \"\"\" \n",
        "    OpenDART 기업 고유번호 받아오기 \n",
        "    return 값: 주식코드를 가진 업체의 DataFrame \n",
        "    \"\"\" \n",
        "    params = {'crtfc_key':crtfc_key} \n",
        "    items = [\"corp_code\",\"corp_name\",\"stock_code\",\"modify_date\"] \n",
        "    item_names = [\"고유번호\",\"회사명\",\"종목코드\",\"수정일\"] \n",
        "    url = \"https://opendart.fss.or.kr/api/corpCode.xml\" #요청 url\n",
        "    res = requests.get(url,params=params) #url 불러오기\n",
        "    zfile = zipfile.ZipFile(io.BytesIO(res.content))  #zip file 받기\n",
        "    fin = zfile.open(zfile.namelist()[0])  #zip file 열고\n",
        "    root = et.fromstring(fin.read().decode('utf-8'))  #utf-8 디코딩\n",
        "    data = [] \n",
        "    for child in root: \n",
        "        if len(child.find('stock_code').text.strip()) > 1: # 종목코드가 있는 경우 \n",
        "            data.append([]) #data에 append하라 \n",
        "            for item in items: \n",
        "                data[-1].append(child.find(item).text) \n",
        "    df = pd.DataFrame(data, columns=item_names) \n",
        "    return df"
      ],
      "metadata": {
        "id": "vGHQOhjuDBuY"
      },
      "execution_count": null,
      "outputs": []
    },
    {
      "cell_type": "code",
      "source": [
        "stock_comp = get_corpcode(crtfc_key)\n",
        "stock_comp"
      ],
      "metadata": {
        "colab": {
          "base_uri": "https://localhost:8080/",
          "height": 424
        },
        "id": "tyo6-EqPDHxj",
        "outputId": "eefc3954-3641-4d8e-cc93-b30041b4121a"
      },
      "execution_count": null,
      "outputs": [
        {
          "output_type": "execute_result",
          "data": {
            "text/plain": [
              "          고유번호      회사명    종목코드       수정일\n",
              "0     00260985     한빛네트  036720  20170630\n",
              "1     00264529     엔플렉스  040130  20170630\n",
              "2     00358545   동서정보기술  055000  20170630\n",
              "3     00231567    애드모바일  032600  20170630\n",
              "4     00247939      씨모스  037600  20170630\n",
              "...        ...      ...     ...       ...\n",
              "3515  00185505    제일바이오  052670  20221122\n",
              "3516  00993931     동양파일  228340  20221124\n",
              "3517  00115287       동방  004140  20221124\n",
              "3518  00557933       진도  088790  20221108\n",
              "3519  01384477  엠에프엠코리아  323230  20221114\n",
              "\n",
              "[3520 rows x 4 columns]"
            ],
            "text/html": [
              "\n",
              "  <div id=\"df-d450a2eb-7ec4-410f-a2d7-dfae58fec152\">\n",
              "    <div class=\"colab-df-container\">\n",
              "      <div>\n",
              "<style scoped>\n",
              "    .dataframe tbody tr th:only-of-type {\n",
              "        vertical-align: middle;\n",
              "    }\n",
              "\n",
              "    .dataframe tbody tr th {\n",
              "        vertical-align: top;\n",
              "    }\n",
              "\n",
              "    .dataframe thead th {\n",
              "        text-align: right;\n",
              "    }\n",
              "</style>\n",
              "<table border=\"1\" class=\"dataframe\">\n",
              "  <thead>\n",
              "    <tr style=\"text-align: right;\">\n",
              "      <th></th>\n",
              "      <th>고유번호</th>\n",
              "      <th>회사명</th>\n",
              "      <th>종목코드</th>\n",
              "      <th>수정일</th>\n",
              "    </tr>\n",
              "  </thead>\n",
              "  <tbody>\n",
              "    <tr>\n",
              "      <th>0</th>\n",
              "      <td>00260985</td>\n",
              "      <td>한빛네트</td>\n",
              "      <td>036720</td>\n",
              "      <td>20170630</td>\n",
              "    </tr>\n",
              "    <tr>\n",
              "      <th>1</th>\n",
              "      <td>00264529</td>\n",
              "      <td>엔플렉스</td>\n",
              "      <td>040130</td>\n",
              "      <td>20170630</td>\n",
              "    </tr>\n",
              "    <tr>\n",
              "      <th>2</th>\n",
              "      <td>00358545</td>\n",
              "      <td>동서정보기술</td>\n",
              "      <td>055000</td>\n",
              "      <td>20170630</td>\n",
              "    </tr>\n",
              "    <tr>\n",
              "      <th>3</th>\n",
              "      <td>00231567</td>\n",
              "      <td>애드모바일</td>\n",
              "      <td>032600</td>\n",
              "      <td>20170630</td>\n",
              "    </tr>\n",
              "    <tr>\n",
              "      <th>4</th>\n",
              "      <td>00247939</td>\n",
              "      <td>씨모스</td>\n",
              "      <td>037600</td>\n",
              "      <td>20170630</td>\n",
              "    </tr>\n",
              "    <tr>\n",
              "      <th>...</th>\n",
              "      <td>...</td>\n",
              "      <td>...</td>\n",
              "      <td>...</td>\n",
              "      <td>...</td>\n",
              "    </tr>\n",
              "    <tr>\n",
              "      <th>3515</th>\n",
              "      <td>00185505</td>\n",
              "      <td>제일바이오</td>\n",
              "      <td>052670</td>\n",
              "      <td>20221122</td>\n",
              "    </tr>\n",
              "    <tr>\n",
              "      <th>3516</th>\n",
              "      <td>00993931</td>\n",
              "      <td>동양파일</td>\n",
              "      <td>228340</td>\n",
              "      <td>20221124</td>\n",
              "    </tr>\n",
              "    <tr>\n",
              "      <th>3517</th>\n",
              "      <td>00115287</td>\n",
              "      <td>동방</td>\n",
              "      <td>004140</td>\n",
              "      <td>20221124</td>\n",
              "    </tr>\n",
              "    <tr>\n",
              "      <th>3518</th>\n",
              "      <td>00557933</td>\n",
              "      <td>진도</td>\n",
              "      <td>088790</td>\n",
              "      <td>20221108</td>\n",
              "    </tr>\n",
              "    <tr>\n",
              "      <th>3519</th>\n",
              "      <td>01384477</td>\n",
              "      <td>엠에프엠코리아</td>\n",
              "      <td>323230</td>\n",
              "      <td>20221114</td>\n",
              "    </tr>\n",
              "  </tbody>\n",
              "</table>\n",
              "<p>3520 rows × 4 columns</p>\n",
              "</div>\n",
              "      <button class=\"colab-df-convert\" onclick=\"convertToInteractive('df-d450a2eb-7ec4-410f-a2d7-dfae58fec152')\"\n",
              "              title=\"Convert this dataframe to an interactive table.\"\n",
              "              style=\"display:none;\">\n",
              "        \n",
              "  <svg xmlns=\"http://www.w3.org/2000/svg\" height=\"24px\"viewBox=\"0 0 24 24\"\n",
              "       width=\"24px\">\n",
              "    <path d=\"M0 0h24v24H0V0z\" fill=\"none\"/>\n",
              "    <path d=\"M18.56 5.44l.94 2.06.94-2.06 2.06-.94-2.06-.94-.94-2.06-.94 2.06-2.06.94zm-11 1L8.5 8.5l.94-2.06 2.06-.94-2.06-.94L8.5 2.5l-.94 2.06-2.06.94zm10 10l.94 2.06.94-2.06 2.06-.94-2.06-.94-.94-2.06-.94 2.06-2.06.94z\"/><path d=\"M17.41 7.96l-1.37-1.37c-.4-.4-.92-.59-1.43-.59-.52 0-1.04.2-1.43.59L10.3 9.45l-7.72 7.72c-.78.78-.78 2.05 0 2.83L4 21.41c.39.39.9.59 1.41.59.51 0 1.02-.2 1.41-.59l7.78-7.78 2.81-2.81c.8-.78.8-2.07 0-2.86zM5.41 20L4 18.59l7.72-7.72 1.47 1.35L5.41 20z\"/>\n",
              "  </svg>\n",
              "      </button>\n",
              "      \n",
              "  <style>\n",
              "    .colab-df-container {\n",
              "      display:flex;\n",
              "      flex-wrap:wrap;\n",
              "      gap: 12px;\n",
              "    }\n",
              "\n",
              "    .colab-df-convert {\n",
              "      background-color: #E8F0FE;\n",
              "      border: none;\n",
              "      border-radius: 50%;\n",
              "      cursor: pointer;\n",
              "      display: none;\n",
              "      fill: #1967D2;\n",
              "      height: 32px;\n",
              "      padding: 0 0 0 0;\n",
              "      width: 32px;\n",
              "    }\n",
              "\n",
              "    .colab-df-convert:hover {\n",
              "      background-color: #E2EBFA;\n",
              "      box-shadow: 0px 1px 2px rgba(60, 64, 67, 0.3), 0px 1px 3px 1px rgba(60, 64, 67, 0.15);\n",
              "      fill: #174EA6;\n",
              "    }\n",
              "\n",
              "    [theme=dark] .colab-df-convert {\n",
              "      background-color: #3B4455;\n",
              "      fill: #D2E3FC;\n",
              "    }\n",
              "\n",
              "    [theme=dark] .colab-df-convert:hover {\n",
              "      background-color: #434B5C;\n",
              "      box-shadow: 0px 1px 3px 1px rgba(0, 0, 0, 0.15);\n",
              "      filter: drop-shadow(0px 1px 2px rgba(0, 0, 0, 0.3));\n",
              "      fill: #FFFFFF;\n",
              "    }\n",
              "  </style>\n",
              "\n",
              "      <script>\n",
              "        const buttonEl =\n",
              "          document.querySelector('#df-d450a2eb-7ec4-410f-a2d7-dfae58fec152 button.colab-df-convert');\n",
              "        buttonEl.style.display =\n",
              "          google.colab.kernel.accessAllowed ? 'block' : 'none';\n",
              "\n",
              "        async function convertToInteractive(key) {\n",
              "          const element = document.querySelector('#df-d450a2eb-7ec4-410f-a2d7-dfae58fec152');\n",
              "          const dataTable =\n",
              "            await google.colab.kernel.invokeFunction('convertToInteractive',\n",
              "                                                     [key], {});\n",
              "          if (!dataTable) return;\n",
              "\n",
              "          const docLinkHtml = 'Like what you see? Visit the ' +\n",
              "            '<a target=\"_blank\" href=https://colab.research.google.com/notebooks/data_table.ipynb>data table notebook</a>'\n",
              "            + ' to learn more about interactive tables.';\n",
              "          element.innerHTML = '';\n",
              "          dataTable['output_type'] = 'display_data';\n",
              "          await google.colab.output.renderOutput(dataTable, element);\n",
              "          const docLink = document.createElement('div');\n",
              "          docLink.innerHTML = docLinkHtml;\n",
              "          element.appendChild(docLink);\n",
              "        }\n",
              "      </script>\n",
              "    </div>\n",
              "  </div>\n",
              "  "
            ]
          },
          "metadata": {},
          "execution_count": 6
        }
      ]
    },
    {
      "cell_type": "code",
      "source": [
        "code_list = stock_comp['고유번호'].tolist()"
      ],
      "metadata": {
        "id": "z-LrbdH3j8zg"
      },
      "execution_count": null,
      "outputs": []
    },
    {
      "cell_type": "code",
      "source": [
        "!pip install dart_fss"
      ],
      "metadata": {
        "colab": {
          "base_uri": "https://localhost:8080/",
          "height": 1000
        },
        "id": "DmUJQU5BiZ8t",
        "outputId": "0395845a-77d8-4fb1-d9ea-1869fcf6f0f5"
      },
      "execution_count": null,
      "outputs": [
        {
          "output_type": "stream",
          "name": "stdout",
          "text": [
            "Looking in indexes: https://pypi.org/simple, https://us-python.pkg.dev/colab-wheels/public/simple/\n",
            "Collecting dart_fss\n",
            "  Downloading dart_fss-0.3.18-py3-none-any.whl (126 kB)\n",
            "\u001b[K     |████████████████████████████████| 126 kB 25.4 MB/s \n",
            "\u001b[?25hRequirement already satisfied: xmltodict in /usr/local/lib/python3.8/dist-packages (from dart_fss) (0.13.0)\n",
            "Requirement already satisfied: tqdm in /usr/local/lib/python3.8/dist-packages (from dart_fss) (4.64.1)\n",
            "Requirement already satisfied: numpy>=1.19.5 in /usr/local/lib/python3.8/dist-packages (from dart_fss) (1.21.6)\n",
            "Collecting isodate\n",
            "  Downloading isodate-0.6.1-py2.py3-none-any.whl (41 kB)\n",
            "\u001b[K     |████████████████████████████████| 41 kB 486 kB/s \n",
            "\u001b[?25hCollecting fake-useragent\n",
            "  Downloading fake_useragent-1.1.1-py3-none-any.whl (50 kB)\n",
            "\u001b[K     |████████████████████████████████| 50 kB 6.1 MB/s \n",
            "\u001b[?25hRequirement already satisfied: py in /usr/local/lib/python3.8/dist-packages (from dart_fss) (1.11.0)\n",
            "Requirement already satisfied: requests in /usr/local/lib/python3.8/dist-packages (from dart_fss) (2.23.0)\n",
            "Collecting halo\n",
            "  Downloading halo-0.0.31.tar.gz (11 kB)\n",
            "Requirement already satisfied: beautifulsoup4 in /usr/local/lib/python3.8/dist-packages (from dart_fss) (4.6.3)\n",
            "Requirement already satisfied: certifi in /usr/local/lib/python3.8/dist-packages (from dart_fss) (2022.9.24)\n",
            "Collecting arelle\n",
            "  Downloading arelle-2.2.tar.gz (1.9 MB)\n",
            "\u001b[K     |████████████████████████████████| 1.9 MB 43.2 MB/s \n",
            "\u001b[?25hRequirement already satisfied: pytz in /usr/local/lib/python3.8/dist-packages (from dart_fss) (2022.6)\n",
            "Requirement already satisfied: six in /usr/local/lib/python3.8/dist-packages (from dart_fss) (1.15.0)\n",
            "Requirement already satisfied: lxml in /usr/local/lib/python3.8/dist-packages (from dart_fss) (4.9.1)\n",
            "Collecting soupsieve\n",
            "  Downloading soupsieve-2.3.2.post1-py3-none-any.whl (37 kB)\n",
            "Requirement already satisfied: chardet in /usr/local/lib/python3.8/dist-packages (from dart_fss) (3.0.4)\n",
            "Requirement already satisfied: traitlets in /usr/local/lib/python3.8/dist-packages (from dart_fss) (5.6.0)\n",
            "Requirement already satisfied: pandas>=1.2.0 in /usr/local/lib/python3.8/dist-packages (from dart_fss) (1.3.5)\n",
            "Requirement already satisfied: backcall in /usr/local/lib/python3.8/dist-packages (from dart_fss) (0.2.0)\n",
            "Collecting idna>=3.0\n",
            "  Downloading idna-3.4-py3-none-any.whl (61 kB)\n",
            "\u001b[K     |████████████████████████████████| 61 kB 89 kB/s \n",
            "\u001b[?25hRequirement already satisfied: openpyxl in /usr/local/lib/python3.8/dist-packages (from dart_fss) (3.0.10)\n",
            "Requirement already satisfied: wcwidth in /usr/local/lib/python3.8/dist-packages (from dart_fss) (0.2.5)\n",
            "Requirement already satisfied: pickleshare in /usr/local/lib/python3.8/dist-packages (from dart_fss) (0.7.5)\n",
            "Requirement already satisfied: urllib3 in /usr/local/lib/python3.8/dist-packages (from dart_fss) (1.24.3)\n",
            "Requirement already satisfied: ipython-genutils in /usr/local/lib/python3.8/dist-packages (from dart_fss) (0.2.0)\n",
            "Requirement already satisfied: attrs in /usr/local/lib/python3.8/dist-packages (from dart_fss) (22.1.0)\n",
            "Requirement already satisfied: python-dateutil in /usr/local/lib/python3.8/dist-packages (from dart_fss) (2.8.2)\n",
            "Requirement already satisfied: appdirs in /usr/local/lib/python3.8/dist-packages (from dart_fss) (1.4.4)\n",
            "Requirement already satisfied: decorator in /usr/local/lib/python3.8/dist-packages (from dart_fss) (4.4.2)\n",
            "Requirement already satisfied: html5lib in /usr/local/lib/python3.8/dist-packages (from dart_fss) (1.0.1)\n",
            "Requirement already satisfied: importlib-resources>=5.0 in /usr/local/lib/python3.8/dist-packages (from fake-useragent->dart_fss) (5.10.0)\n",
            "Requirement already satisfied: zipp>=3.1.0 in /usr/local/lib/python3.8/dist-packages (from importlib-resources>=5.0->fake-useragent->dart_fss) (3.11.0)\n",
            "Collecting log_symbols>=0.0.14\n",
            "  Downloading log_symbols-0.0.14-py3-none-any.whl (3.1 kB)\n",
            "Collecting spinners>=0.0.24\n",
            "  Downloading spinners-0.0.24-py3-none-any.whl (5.5 kB)\n",
            "Requirement already satisfied: termcolor>=1.1.0 in /usr/local/lib/python3.8/dist-packages (from halo->dart_fss) (2.1.1)\n",
            "Collecting colorama>=0.3.9\n",
            "  Downloading colorama-0.4.6-py2.py3-none-any.whl (25 kB)\n",
            "Requirement already satisfied: webencodings in /usr/local/lib/python3.8/dist-packages (from html5lib->dart_fss) (0.5.1)\n",
            "Requirement already satisfied: et-xmlfile in /usr/local/lib/python3.8/dist-packages (from openpyxl->dart_fss) (1.1.0)\n",
            "Collecting requests\n",
            "  Downloading requests-2.28.1-py3-none-any.whl (62 kB)\n",
            "\u001b[K     |████████████████████████████████| 62 kB 1.2 MB/s \n",
            "\u001b[?25hRequirement already satisfied: charset-normalizer<3,>=2 in /usr/local/lib/python3.8/dist-packages (from requests->dart_fss) (2.1.1)\n",
            "Building wheels for collected packages: arelle, halo\n",
            "  Building wheel for arelle (setup.py) ... \u001b[?25l\u001b[?25hdone\n",
            "  Created wheel for arelle: filename=arelle-2.2-py3-none-any.whl size=2060307 sha256=f996f30d21302cc77a8f4cd781f6d9839e60754c0abfd1a0d4dbeb76f41df124\n",
            "  Stored in directory: /root/.cache/pip/wheels/36/af/2e/a5a7c700dcb6ca300f86d2bc6674c6d37704baacf1deac116d\n",
            "  Building wheel for halo (setup.py) ... \u001b[?25l\u001b[?25hdone\n",
            "  Created wheel for halo: filename=halo-0.0.31-py3-none-any.whl size=11261 sha256=cf79a95689dd1c19ae2486a6ddd50374ec726d87c07d1e2bb6f4a8cc7dbb88c1\n",
            "  Stored in directory: /root/.cache/pip/wheels/c0/74/6f/c63bb0075c49f05e692807fe383ddf2b17a52f567d637af096\n",
            "Successfully built arelle halo\n",
            "Installing collected packages: colorama, spinners, log-symbols, idna, soupsieve, requests, isodate, halo, fake-useragent, arelle, dart-fss\n",
            "  Attempting uninstall: idna\n",
            "    Found existing installation: idna 2.10\n",
            "    Uninstalling idna-2.10:\n",
            "      Successfully uninstalled idna-2.10\n",
            "  Attempting uninstall: requests\n",
            "    Found existing installation: requests 2.23.0\n",
            "    Uninstalling requests-2.23.0:\n",
            "      Successfully uninstalled requests-2.23.0\n",
            "Successfully installed arelle-2.2 colorama-0.4.6 dart-fss-0.3.18 fake-useragent-1.1.1 halo-0.0.31 idna-3.4 isodate-0.6.1 log-symbols-0.0.14 requests-2.28.1 soupsieve-2.3.2.post1 spinners-0.0.24\n"
          ]
        },
        {
          "output_type": "display_data",
          "data": {
            "application/vnd.colab-display-data+json": {
              "pip_warning": {
                "packages": [
                  "requests"
                ]
              }
            }
          },
          "metadata": {}
        }
      ]
    },
    {
      "cell_type": "code",
      "source": [
        "import dart_fss as dart\n",
        " \n",
        " \n",
        "# Open DART API KEY 설정\n",
        "api_key = '9a360d3e3365eba4c46575c83fe03b7947088252'\n",
        "dart.set_api_key(api_key=api_key)"
      ],
      "metadata": {
        "colab": {
          "base_uri": "https://localhost:8080/",
          "height": 35
        },
        "id": "JlbzpDfIiL-h",
        "outputId": "235b038d-bca0-4fdd-a2bb-00962aad27e6"
      },
      "execution_count": null,
      "outputs": [
        {
          "output_type": "execute_result",
          "data": {
            "text/plain": [
              "'9a360d3e3365eba4c46575c83fe03b7947088252'"
            ],
            "application/vnd.google.colaboratory.intrinsic+json": {
              "type": "string"
            }
          },
          "metadata": {},
          "execution_count": 9
        }
      ]
    },
    {
      "cell_type": "code",
      "source": [
        "def get_fs(crtfc_key, corp_code, bsns_year, reprt_code):\n",
        "    # 단일회사 주요계정\n",
        "    # crtfc_key API 인증키 STRING(40)  Y 발급받은 인증키(40자리)\n",
        "    # corp_code 고유번호  STRING(8) Y 공시대상회사의 고유번호(8자리)\n",
        "    # ※ 개발가이드 > 공시정보 > 고유번호 API조회 가능\n",
        "    # bsns_year 사업연도  STRING(1) Y 사업연도(4자리)\n",
        "    # ※ 2015년 이후 부터 정보제공\n",
        "    # reprt_code  보고서 코드  STRING(5) Y 1분기보고서 : 11013\n",
        "    # 반기보고서 : 11012\n",
        "    # 3분기보고서 : 11014\n",
        "    # 사업보고서 : 11011\n",
        "    api = 'https://opendart.fss.or.kr/api/fnlttSinglAcnt.json'\n",
        "    params = {\n",
        "        'crtfc_key': crtfc_key,\n",
        "        'corp_code': corp_code,\n",
        "        'bsns_year': bsns_year,\n",
        "    }\n",
        "    data = []\n",
        "    reprt_name = REPRT_NAMES.get(reprt_code, \"\")\n",
        "    params['reprt_code'] = reprt_code\n",
        "    res = self._request(api, params=params)\n",
        "    if res is None:\n",
        "        return None\n",
        "    if res.status_code != 200:\n",
        "        return None\n",
        "    item = json.loads(res.text)\n",
        "    if item.get('status', '') != '000':\n",
        "        return None\n",
        "    for _item in item.get('list'):\n",
        "        _item['corp_code'] = corp_code\n",
        "        _item['reprt_code'] = reprt_code\n",
        "        _item['reprt_name'] = reprt_name\n",
        "        data.append(_item)\n",
        "    return data\n"
      ],
      "metadata": {
        "id": "Ez3MDbMLlJho"
      },
      "execution_count": null,
      "outputs": []
    },
    {
      "cell_type": "code",
      "source": [
        "#삼성 재무정보파일 호출\n",
        "file='fs_samsung.xlsx'\n",
        "wb=load_workbook(file)\n",
        " \n",
        "#필요한 데이터 레이블\n",
        "bs_items=['ifrs-full_Assets','ifrs-full_Liabilities','ifrs-full_Equity']\n",
        "is_items=['ifrs-full_Revenue','dart_OperatingIncomeLoss','ifrs-full_ProfitLoss']\n",
        "cf_items=['ifrs-full_CashFlowsFromUsedInOperatingActivities']\n",
        " \n",
        "ws_bs=wb['Data_bs']\n",
        "y_list=[]\n",
        " \n",
        " \n",
        "c= 10\n",
        " \n",
        "while ws_bs.cell(2,c).value != None:\n",
        "    y=ws_bs.cell(1,c).value\n",
        "    y_list.append(y)\n",
        "    c+=1\n",
        "print(y_list)\n",
        " \n",
        " \n",
        "df_list=[]\n",
        " \n",
        "for bs_item in bs_items:\n",
        "    temp_list=[]\n",
        "    r=4\n",
        "    while ws_bs.cell(r,2).value !=None:\n",
        "        if ws_bs.cell(r,2).value==bs_item:\n",
        "            item=ws_bs.cell(r,3).value\n",
        "            c=10\n",
        "            while ws_bs.cell(1,c).value !=None:\n",
        "                temp_list.append(ws_bs.cell(r,c).value)\n",
        "                c+=1\n",
        "        r+=1\n",
        "    df=pd.DataFrame({item:temp_list},index=y_list)\n",
        "    df_list.append(df)\n",
        " \n",
        "ws_is=wb['Data_is']\n",
        "for is_item in is_items:\n",
        "    temp_list=[]\n",
        "    r=4\n",
        "    while ws_is.cell(r,2).value !=None:\n",
        "        if ws_is.cell(r,2).value==is_item:\n",
        "            item=ws_is.cell(r,3).value\n",
        "            c=8\n",
        "            while ws_is.cell(1,c).value !=None:\n",
        "                temp_list.append(ws_is.cell(r,c).value)\n",
        "                c+=1\n",
        "        r+=1\n",
        "    df=pd.DataFrame({item:temp_list},index=y_list)\n",
        "    df_list.append(df)\n",
        " \n",
        "ws_cf=wb['Data_cf']\n",
        "for cf_item in cf_items:\n",
        "    temp_list=[]\n",
        "    r=4\n",
        "    while ws_cf.cell(r,2).value !=None:\n",
        "        if ws_cf.cell(r,2).value==cf_item:\n",
        "            item=ws_cf.cell(r,3).value\n",
        "            c=9\n",
        "            while ws_cf.cell(1,c).value !=None:\n",
        "                temp_list.append(ws_cf.cell(r,c).value)\n",
        "                c+=1\n",
        "        r+=1\n",
        "    df=pd.DataFrame({item:temp_list},index=y_list)\n",
        "    df_list.append(df)\n",
        " \n",
        "total_df=pd.concat(df_list,axis=1)\n",
        "total_df=total_df.transpose()\n",
        " \n",
        "# col 생략 없이 출력\n",
        "pd.set_option('display.max_columns', None)\n",
        "print(total_df)\n",
        " \n",
        "#파일 저장\n",
        "#total_df.to_excel('재무정보상태표.xlsx')"
      ],
      "metadata": {
        "id": "82huNaHhiBzo"
      },
      "execution_count": null,
      "outputs": []
    },
    {
      "cell_type": "markdown",
      "source": [
        "https://hanfit.tistory.com/7\n",
        "https://gils-lab.tistory.com/44\n",
        "https://besixdouze.net/13\n",
        "https://weezzle.tistory.com/1379"
      ],
      "metadata": {
        "id": "-oIOq1IA9jKp"
      }
    },
    {
      "cell_type": "code",
      "source": [],
      "metadata": {
        "id": "xDClsWzI9os6"
      },
      "execution_count": null,
      "outputs": []
    }
  ]
}